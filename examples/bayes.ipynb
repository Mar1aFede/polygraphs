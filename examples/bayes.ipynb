{
 "cells": [
  {
   "cell_type": "code",
   "execution_count": 22,
   "metadata": {},
   "outputs": [
    {
     "name": "stdout",
     "output_type": "stream",
     "text": [
      "Prior is tensor([0.5000])\n",
      "1st sample is tensor([9.])\n",
      "2nd sample is tensor([7.])\n",
      "Posterior( t=1) is tensor([0.9624])\n",
      "Posterior (t=2) is tensor([0.9924])\n",
      "Posterior is tensor([0.9924])\n"
     ]
    }
   ],
   "source": [
    "import polygraphs as pg\n",
    "import torch\n",
    "\n",
    "def generator(epsilon, trials, size):\n",
    "    # Action B yields Bernoulli payoff of 1 (success)\n",
    "    # with probability p (= 0.5 + e)\n",
    "    probs = pg.init.halfs(size) + epsilon\n",
    "    \n",
    "    # Number of Bernoulli trials\n",
    "    count = pg.init.zeros(size) + trials\n",
    "\n",
    "    # Each node gets a private signal that provides information\n",
    "    # about whether action B is indeed a good action\n",
    "    sampler = torch.distributions.binomial.Binomial(total_count=count,\n",
    "                                                    probs=probs)\n",
    "    return sampler\n",
    "\n",
    "# Set random seed\n",
    "pg.random(123)\n",
    "epsilon = 0.1\n",
    "trials = 10\n",
    "size = (1,)\n",
    "\n",
    "g = generator(epsilon, trials, size)\n",
    "\n",
    "# Pick a prior, any value between 0 and 1\n",
    "params = pg.hyperparameters.InitHyperParameters()\n",
    "params.constant.value = 0.5\n",
    "prior = pg.init.constant(size, params)\n",
    "print(\"Prior is\", prior)\n",
    "\n",
    "# Get two samples\n",
    "s1 = g.sample()\n",
    "s2 = g.sample()\n",
    "print(\"1st sample is\", s1)\n",
    "print(\"2nd sample is\", s2)\n",
    "\n",
    "# At time step 1, update prior using first sample\n",
    "e1 = pg.ops.math.Evidence(g.logits, s1, g.total_count)\n",
    "\n",
    "posterior = pg.ops.math.bayes(prior, e1)\n",
    "print(\"Posterior( t=1) is\", posterior)\n",
    "\n",
    "# At time step 2, update prior (posterior of previous step) using second sample\n",
    "e2 = pg.ops.math.Evidence(g.logits, s2, g.total_count)\n",
    "\n",
    "posterior = pg.ops.math.bayes(posterior, e2)\n",
    "print(\"Posterior (t=2) is\", posterior)\n",
    "\n",
    "# At time 1, update prior using both samples\n",
    "e3 = pg.ops.math.Evidence(g.logits, s1 + s2, 2 * g.total_count)\n",
    "\n",
    "posterior = pg.ops.math.bayes(prior, e3)\n",
    "print(\"Posterior is\", posterior)\n"
   ]
  },
  {
   "cell_type": "code",
   "execution_count": 30,
   "metadata": {},
   "outputs": [
    {
     "name": "stdout",
     "output_type": "stream",
     "text": [
      "Prior is tensor([0.5000])\n",
      "1st sample is tensor([9.])\n",
      "2nd sample is tensor([7.])\n",
      "Posterior( t=1) is tensor([0.7735])\n",
      "Posterior (t=2) is tensor([0.8619])\n",
      "Posterior is tensor([0.7919])\n"
     ]
    }
   ],
   "source": [
    "# Set random seed\n",
    "pg.random(123)\n",
    "epsilon = 0.1\n",
    "trials = 10\n",
    "size = (1,)\n",
    "certainty = 0.6\n",
    "\n",
    "g = generator(epsilon, trials, size)\n",
    "\n",
    "# Pick a prior, any value between 0 and 1\n",
    "params = pg.hyperparameters.InitHyperParameters()\n",
    "params.constant.value = 0.5\n",
    "prior = pg.init.constant(size, params)\n",
    "print(\"Prior is\", prior)\n",
    "\n",
    "# Get two samples\n",
    "s1 = g.sample()\n",
    "s2 = g.sample()\n",
    "print(\"1st sample is\", s1)\n",
    "print(\"2nd sample is\", s2)\n",
    "\n",
    "# At time step 1, update prior using first sample\n",
    "e1 = pg.ops.math.Evidence(g.logits, s1, g.total_count)\n",
    "\n",
    "posterior = pg.ops.math.jeffrey(prior, e1, certainty)\n",
    "print(\"Posterior( t=1) is\", posterior)\n",
    "\n",
    "# At time step 2, update prior (posterior of previous step) using second sample\n",
    "e2 = pg.ops.math.Evidence(g.logits, s2, g.total_count)\n",
    "\n",
    "posterior = pg.ops.math.jeffrey(posterior, e2, certainty)\n",
    "print(\"Posterior (t=2) is\", posterior)\n",
    "\n",
    "# At time 1, update prior using both samples\n",
    "e3 = pg.ops.math.Evidence(g.logits, s1 + s2, 2 * g.total_count)\n",
    "\n",
    "posterior = pg.ops.math.jeffrey(prior, e3, certainty)\n",
    "print(\"Posterior is\", posterior)\n"
   ]
  },
  {
   "cell_type": "code",
   "execution_count": null,
   "metadata": {},
   "outputs": [],
   "source": []
  }
 ],
 "metadata": {
  "interpreter": {
   "hash": "99d2daaa40f0c21b26b27a5491cef7acb4d77d22705671ecaa8729c6260e1a86"
  },
  "kernelspec": {
   "display_name": "Python 3.7.3 64-bit ('.venv': venv)",
   "language": "python",
   "name": "python3"
  },
  "language_info": {
   "codemirror_mode": {
    "name": "ipython",
    "version": 3
   },
   "file_extension": ".py",
   "mimetype": "text/x-python",
   "name": "python",
   "nbconvert_exporter": "python",
   "pygments_lexer": "ipython3",
   "version": "3.7.3"
  },
  "orig_nbformat": 4
 },
 "nbformat": 4,
 "nbformat_minor": 2
}
