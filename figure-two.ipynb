{
 "metadata": {
  "language_info": {
   "codemirror_mode": {
    "name": "ipython",
    "version": 3
   },
   "file_extension": ".py",
   "mimetype": "text/x-python",
   "name": "python",
   "nbconvert_exporter": "python",
   "pygments_lexer": "ipython3",
   "version": "3.7.3"
  },
  "orig_nbformat": 2,
  "kernelspec": {
   "name": "python3",
   "display_name": "Python 3",
   "language": "python"
  }
 },
 "nbformat": 4,
 "nbformat_minor": 2,
 "cells": [
  {
   "source": [
    "# Learning from neighbours\n",
    "\n",
    "_Figure 2, page 58, from the book \"Misinformation Age\" by O'Connor & Weatherall_"
   ],
   "cell_type": "markdown",
   "metadata": {}
  },
  {
   "cell_type": "code",
   "execution_count": 10,
   "metadata": {},
   "outputs": [
    {
     "output_type": "stream",
     "name": "stdout",
     "text": [
      "New beliefs are [0.7  0.57 0.87 0.79 0.02 0.88]\nBye.\n"
     ]
    }
   ],
   "source": [
    "# Enable auto-reloading\n",
    "%reload_ext autoreload\n",
    "# 2: Reload all\n",
    "%autoreload 2\n",
    "\n",
    "import torch\n",
    "\n",
    "import polygraphs as pg\n",
    "\n",
    "from polygraphs import hyperparameters as hparams\n",
    "from polygraphs import ops\n",
    "from polygraphs import graphs\n",
    "\n",
    "\n",
    "# When the mistruct multiplier is 0, `OConnorWeatherallOp` is equivalent to `BalaGoyalOp`.\n",
    "_PARENT_OP = ops.OConnorWeatherallOp\n",
    "\n",
    "\n",
    "class SimpleOp(_PARENT_OP):\n",
    "    \"\"\"\n",
    "    Overides local signal observed by each agent in the network.\n",
    "    \"\"\"\n",
    "    def _sample(self):\n",
    "        return torch.Tensor([6, 5, 7, 4, 2, 5])\n",
    "\n",
    "    def _trials(self):\n",
    "        return torch.full((6,), 10)\n",
    "\n",
    "\n",
    "# Create a PolyGraph configuration\n",
    "params = hparams.PolyGraphHyperParameters()\n",
    "\n",
    "# Initial beliefs are hard-coded\n",
    "params.init.kind = 'constant'\n",
    "params.init.constant.value = [0.32, 0.21, 0.56, 0.43, 0.02, 0.59]\n",
    "# Chance that action B is better than action A\n",
    "params.epsilon = 0.1\n",
    "# Consider sample network with 6 agents\n",
    "params.network.kind = 'sample'\n",
    "\n",
    "# Create a DGL graph with given configuration\n",
    "graph = graphs.create(params.network)\n",
    "# Create a model with given configuration\n",
    "model = SimpleOp(graph, params)\n",
    "\n",
    "# Run a single simulation step\n",
    "_ = pg.simulate_(graph, model, steps=1)\n",
    "\n",
    "# Print agent beliefs after 1 step\n",
    "print('New beliefs are', graph.ndata['belief'].numpy().round(2))\n",
    "print('Bye.')"
   ]
  }
 ]
}